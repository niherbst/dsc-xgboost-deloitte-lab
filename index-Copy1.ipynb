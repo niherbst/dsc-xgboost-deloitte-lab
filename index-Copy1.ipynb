{
 "cells": [
  {
   "cell_type": "markdown",
   "metadata": {},
   "source": [
    "## Introduction  \n",
    "In this lab, we would like to make an XGBoost model to study the e-commerce behavior from a multi-category store. First, we need to download the data to your local machine, then we will load the data into a Pandas DataFrame."
   ]
  },
  {
   "cell_type": "markdown",
   "metadata": {},
   "source": [
    "## Objectives\n",
    "- Apply XGBoost to an example"
   ]
  },
  {
   "cell_type": "markdown",
   "metadata": {},
   "source": [
    "## Instruction\n",
    "* Accept the Kaggle policy and download the data from [Kaggle](https://www.kaggle.com/code/tshephisho/ecommerce-behaviour-using-xgboost/data)\n",
    "* For the first model you will only use the 2019-Nov csv data (which is still around ~2gb zipped)"
   ]
  },
  {
   "cell_type": "code",
   "execution_count": 1,
   "metadata": {},
   "outputs": [],
   "source": [
    "# import necessary libraries\n",
    "import numpy as np\n",
    "import pandas as pd\n",
    "import matplotlib.pyplot as plt\n",
    "import matplotlib.dates as dates\n",
    "from datetime import datetime"
   ]
  },
  {
   "cell_type": "code",
   "execution_count": 2,
   "metadata": {
    "_cell_guid": "79c7e3d0-c299-4dcb-8224-4455121ee9b0",
    "_uuid": "d629ff2d2480ee46fbb7e2d37f6b5fab8052498a"
   },
   "outputs": [],
   "source": [
    "# fill this in with your path (absolute path works as well)\n",
    "df = pd.read_csv(\"2019-Nov.csv\")"
   ]
  },
  {
   "cell_type": "markdown",
   "metadata": {},
   "source": [
    "Start with some exploratory analysis. First, take a look at the first five rows of the DataFrame. Then get the information about the DataFrame, what is the shape of the DataFrame, and what are the coumn names?"
   ]
  },
  {
   "cell_type": "code",
   "execution_count": 3,
   "metadata": {},
   "outputs": [
    {
     "data": {
      "text/html": [
       "<div>\n",
       "<style scoped>\n",
       "    .dataframe tbody tr th:only-of-type {\n",
       "        vertical-align: middle;\n",
       "    }\n",
       "\n",
       "    .dataframe tbody tr th {\n",
       "        vertical-align: top;\n",
       "    }\n",
       "\n",
       "    .dataframe thead th {\n",
       "        text-align: right;\n",
       "    }\n",
       "</style>\n",
       "<table border=\"1\" class=\"dataframe\">\n",
       "  <thead>\n",
       "    <tr style=\"text-align: right;\">\n",
       "      <th></th>\n",
       "      <th>event_time</th>\n",
       "      <th>event_type</th>\n",
       "      <th>product_id</th>\n",
       "      <th>category_id</th>\n",
       "      <th>category_code</th>\n",
       "      <th>brand</th>\n",
       "      <th>price</th>\n",
       "      <th>user_id</th>\n",
       "      <th>user_session</th>\n",
       "    </tr>\n",
       "  </thead>\n",
       "  <tbody>\n",
       "    <tr>\n",
       "      <th>0</th>\n",
       "      <td>2019-11-01 00:00:00 UTC</td>\n",
       "      <td>view</td>\n",
       "      <td>1003461</td>\n",
       "      <td>2053013555631882655</td>\n",
       "      <td>electronics.smartphone</td>\n",
       "      <td>xiaomi</td>\n",
       "      <td>489.07</td>\n",
       "      <td>520088904</td>\n",
       "      <td>4d3b30da-a5e4-49df-b1a8-ba5943f1dd33</td>\n",
       "    </tr>\n",
       "    <tr>\n",
       "      <th>1</th>\n",
       "      <td>2019-11-01 00:00:00 UTC</td>\n",
       "      <td>view</td>\n",
       "      <td>5000088</td>\n",
       "      <td>2053013566100866035</td>\n",
       "      <td>appliances.sewing_machine</td>\n",
       "      <td>janome</td>\n",
       "      <td>293.65</td>\n",
       "      <td>530496790</td>\n",
       "      <td>8e5f4f83-366c-4f70-860e-ca7417414283</td>\n",
       "    </tr>\n",
       "    <tr>\n",
       "      <th>2</th>\n",
       "      <td>2019-11-01 00:00:01 UTC</td>\n",
       "      <td>view</td>\n",
       "      <td>17302664</td>\n",
       "      <td>2053013553853497655</td>\n",
       "      <td>NaN</td>\n",
       "      <td>creed</td>\n",
       "      <td>28.31</td>\n",
       "      <td>561587266</td>\n",
       "      <td>755422e7-9040-477b-9bd2-6a6e8fd97387</td>\n",
       "    </tr>\n",
       "    <tr>\n",
       "      <th>3</th>\n",
       "      <td>2019-11-01 00:00:01 UTC</td>\n",
       "      <td>view</td>\n",
       "      <td>3601530</td>\n",
       "      <td>2053013563810775923</td>\n",
       "      <td>appliances.kitchen.washer</td>\n",
       "      <td>lg</td>\n",
       "      <td>712.87</td>\n",
       "      <td>518085591</td>\n",
       "      <td>3bfb58cd-7892-48cc-8020-2f17e6de6e7f</td>\n",
       "    </tr>\n",
       "    <tr>\n",
       "      <th>4</th>\n",
       "      <td>2019-11-01 00:00:01 UTC</td>\n",
       "      <td>view</td>\n",
       "      <td>1004775</td>\n",
       "      <td>2053013555631882655</td>\n",
       "      <td>electronics.smartphone</td>\n",
       "      <td>xiaomi</td>\n",
       "      <td>183.27</td>\n",
       "      <td>558856683</td>\n",
       "      <td>313628f1-68b8-460d-84f6-cec7a8796ef2</td>\n",
       "    </tr>\n",
       "  </tbody>\n",
       "</table>\n",
       "</div>"
      ],
      "text/plain": [
       "                event_time event_type  product_id          category_id  \\\n",
       "0  2019-11-01 00:00:00 UTC       view     1003461  2053013555631882655   \n",
       "1  2019-11-01 00:00:00 UTC       view     5000088  2053013566100866035   \n",
       "2  2019-11-01 00:00:01 UTC       view    17302664  2053013553853497655   \n",
       "3  2019-11-01 00:00:01 UTC       view     3601530  2053013563810775923   \n",
       "4  2019-11-01 00:00:01 UTC       view     1004775  2053013555631882655   \n",
       "\n",
       "               category_code   brand   price    user_id  \\\n",
       "0     electronics.smartphone  xiaomi  489.07  520088904   \n",
       "1  appliances.sewing_machine  janome  293.65  530496790   \n",
       "2                        NaN   creed   28.31  561587266   \n",
       "3  appliances.kitchen.washer      lg  712.87  518085591   \n",
       "4     electronics.smartphone  xiaomi  183.27  558856683   \n",
       "\n",
       "                           user_session  \n",
       "0  4d3b30da-a5e4-49df-b1a8-ba5943f1dd33  \n",
       "1  8e5f4f83-366c-4f70-860e-ca7417414283  \n",
       "2  755422e7-9040-477b-9bd2-6a6e8fd97387  \n",
       "3  3bfb58cd-7892-48cc-8020-2f17e6de6e7f  \n",
       "4  313628f1-68b8-460d-84f6-cec7a8796ef2  "
      ]
     },
     "execution_count": 3,
     "metadata": {},
     "output_type": "execute_result"
    }
   ],
   "source": [
    "# your code\n",
    "df.head()"
   ]
  },
  {
   "cell_type": "code",
   "execution_count": 4,
   "metadata": {},
   "outputs": [
    {
     "name": "stdout",
     "output_type": "stream",
     "text": [
      "<class 'pandas.core.frame.DataFrame'>\n",
      "RangeIndex: 67501979 entries, 0 to 67501978\n",
      "Data columns (total 9 columns):\n",
      " #   Column         Dtype  \n",
      "---  ------         -----  \n",
      " 0   event_time     object \n",
      " 1   event_type     object \n",
      " 2   product_id     int64  \n",
      " 3   category_id    int64  \n",
      " 4   category_code  object \n",
      " 5   brand          object \n",
      " 6   price          float64\n",
      " 7   user_id        int64  \n",
      " 8   user_session   object \n",
      "dtypes: float64(1), int64(3), object(5)\n",
      "memory usage: 4.5+ GB\n"
     ]
    }
   ],
   "source": [
    "# your code\n",
    "df.info()"
   ]
  },
  {
   "cell_type": "code",
   "execution_count": 5,
   "metadata": {},
   "outputs": [
    {
     "data": {
      "text/plain": [
       "(67501979, 9)"
      ]
     },
     "execution_count": 5,
     "metadata": {},
     "output_type": "execute_result"
    }
   ],
   "source": [
    "# your code\n",
    "df.shape"
   ]
  },
  {
   "cell_type": "code",
   "execution_count": 6,
   "metadata": {},
   "outputs": [
    {
     "data": {
      "text/plain": [
       "Index(['event_time', 'event_type', 'product_id', 'category_id',\n",
       "       'category_code', 'brand', 'price', 'user_id', 'user_session'],\n",
       "      dtype='object')"
      ]
     },
     "execution_count": 6,
     "metadata": {},
     "output_type": "execute_result"
    }
   ],
   "source": [
    "# your code\n",
    "df.columns"
   ]
  },
  {
   "cell_type": "markdown",
   "metadata": {},
   "source": [
    "# Know your Customers\n",
    "How many unique customers visit the site? Assign the number of visitors to the visitor variable and print it out"
   ]
  },
  {
   "cell_type": "code",
   "execution_count": 7,
   "metadata": {},
   "outputs": [
    {
     "data": {
      "text/plain": [
       "3696117"
      ]
     },
     "execution_count": 7,
     "metadata": {},
     "output_type": "execute_result"
    }
   ],
   "source": [
    "# your code\n",
    "visitor = df['user_id'].nunique()\n",
    "visitor"
   ]
  },
  {
   "cell_type": "markdown",
   "metadata": {},
   "source": [
    "# Visitors Daily Trend\n",
    "Does traffic fluctuate by date? Try using the `event_time` and `user_id` to see traffic. First you need to select by `event_time` and `user_id`, then you will `drop_duplicates` and `groupby` `event_time` and `user_id`."
   ]
  },
  {
   "cell_type": "code",
   "execution_count": 8,
   "metadata": {},
   "outputs": [],
   "source": [
    "d = df.loc[:, [\"event_time\", \"user_id\"]]\n",
    "d[\"event_time\"] = d[\"event_time\"].apply(lambda s: str(s)[0:10])\n",
    "visitor_by_date = (\n",
    "    d.drop_duplicates()\n",
    "    .groupby([\"event_time\"])[\"user_id\"]\n",
    "    .agg([\"count\"])\n",
    "    .sort_values(by=[\"event_time\"], ascending=True)\n",
    ")\n",
    "x = pd.Series(visitor_by_date.index.values).apply(\n",
    "    lambda s: datetime.strptime(s, \"%Y-%m-%d\").date()\n",
    ")\n",
    "y = visitor_by_date[\"count\"]"
   ]
  },
  {
   "cell_type": "code",
   "execution_count": 9,
   "metadata": {},
   "outputs": [
    {
     "data": {
      "image/png": "[encoded data removed]",
      "text/plain": [
       "<Figure size 1224x360 with 1 Axes>"
      ]
     },
     "metadata": {
      "needs_background": "light"
     },
     "output_type": "display_data"
    }
   ],
   "source": [
    "plt.rcParams[\"figure.figsize\"] = (17, 5)\n",
    "plt.plot(x, y)\n",
    "plt.show()"
   ]
  },
  {
   "cell_type": "markdown",
   "metadata": {},
   "source": [
    "### By Category and Product\n",
    "Which category do customers interact with the most? What brand do they view the most? You can choose just the categories with at least 30 records in order to construct the plots."
   ]
  },
  {
   "cell_type": "code",
   "execution_count": 10,
   "metadata": {},
   "outputs": [],
   "source": [
    "max_category_num = 30\n",
    "top_category = (\n",
    "    df.loc[:, \"category_code\"]\n",
    "    .value_counts()[:max_category_num]\n",
    "    .sort_values(ascending=False)\n",
    ")"
   ]
  },
  {
   "cell_type": "code",
   "execution_count": 11,
   "metadata": {},
   "outputs": [
    {
     "data": {
      "image/png": "[encoded data removed]",
      "text/plain": [
       "<Figure size 1224x360 with 1 Axes>"
      ]
     },
     "metadata": {
      "needs_background": "light"
     },
     "output_type": "display_data"
    }
   ],
   "source": [
    "plt.bar(\n",
    "    height=top_category,\n",
    "    x=top_category.index.array,\n",
    "    color=[\"red\", \"cyan\", \"green\", \"orange\", \"blue\", \"grey\"],\n",
    "    alpha=0.7,\n",
    ")\n",
    "plt.axis(\"off\")\n",
    "plt.show()"
   ]
  },
  {
   "cell_type": "markdown",
   "metadata": {},
   "source": [
    "## Purchases\n",
    "\n",
    "When the event_type is \"purchase\", what item do customers buy?\n",
    "\n",
    "Try using `'event_type' == 'purchase'` and drop empty rows to assess which categories customers buy."
   ]
  },
  {
   "cell_type": "code",
   "execution_count": 12,
   "metadata": {},
   "outputs": [
    {
     "name": "stdout",
     "output_type": "stream",
     "text": [
      "12716116     1\n",
      "12710980     1\n",
      "1004799      1\n",
      "4803836      1\n",
      "11500794     1\n",
      "            ..\n",
      "28720557     1\n",
      "100011435    1\n",
      "7005933      1\n",
      "7101857      1\n",
      "17301504     1\n",
      "Name: product_id, Length: 52054, dtype: int64\n",
      "/\n",
      "country_yard.cultivator                1\n",
      "apparel.sock                           1\n",
      "apparel.tshirt                         1\n",
      "appliances.kitchen.grill               1\n",
      "computers.components.cpu               1\n",
      "                                      ..\n",
      "sport.snowboard                        1\n",
      "appliances.kitchen.fryer               1\n",
      "electronics.audio.music_tools.piano    1\n",
      "appliances.kitchen.dishwasher          1\n",
      "sport.bicycle                          1\n",
      "Name: category_code, Length: 126, dtype: int64\n"
     ]
    }
   ],
   "source": [
    "# your code\n",
    "bought_items = df[df['event_type'] == 'purchase']\n",
    "unique_bought_items = bought_items.drop_duplicates(subset = 'product_id')\n",
    "bought_items_id = unique_bought_items['product_id'].value_counts()\n",
    "unique_bought_categories = bought_items.drop_duplicates(subset = 'category_code')\n",
    "bought_items_categories = unique_bought_categories['category_code'].dropna().value_counts()\n",
    "\n",
    "print(bought_items_id)\n",
    "print('/')\n",
    "print(bought_items_categories)"
   ]
  },
  {
   "cell_type": "markdown",
   "metadata": {},
   "source": [
    "## What brands do the customers buy?\n",
    "Try grouping by brand and sorting the values by the brand name."
   ]
  },
  {
   "cell_type": "code",
   "execution_count": 13,
   "metadata": {},
   "outputs": [
    {
     "data": {
      "text/html": [
       "<div>\n",
       "<style scoped>\n",
       "    .dataframe tbody tr th:only-of-type {\n",
       "        vertical-align: middle;\n",
       "    }\n",
       "\n",
       "    .dataframe tbody tr th {\n",
       "        vertical-align: top;\n",
       "    }\n",
       "\n",
       "    .dataframe thead th {\n",
       "        text-align: right;\n",
       "    }\n",
       "</style>\n",
       "<table border=\"1\" class=\"dataframe\">\n",
       "  <thead>\n",
       "    <tr style=\"text-align: right;\">\n",
       "      <th></th>\n",
       "      <th>brand</th>\n",
       "      <th>counts</th>\n",
       "    </tr>\n",
       "  </thead>\n",
       "  <tbody>\n",
       "    <tr>\n",
       "      <th>0</th>\n",
       "      <td>a-case</td>\n",
       "      <td>94</td>\n",
       "    </tr>\n",
       "    <tr>\n",
       "      <th>1</th>\n",
       "      <td>a-elita</td>\n",
       "      <td>1</td>\n",
       "    </tr>\n",
       "    <tr>\n",
       "      <th>2</th>\n",
       "      <td>a-mega</td>\n",
       "      <td>12</td>\n",
       "    </tr>\n",
       "    <tr>\n",
       "      <th>3</th>\n",
       "      <td>aardwolf</td>\n",
       "      <td>7</td>\n",
       "    </tr>\n",
       "    <tr>\n",
       "      <th>4</th>\n",
       "      <td>absolutechampion</td>\n",
       "      <td>1</td>\n",
       "    </tr>\n",
       "    <tr>\n",
       "      <th>...</th>\n",
       "      <td>...</td>\n",
       "      <td>...</td>\n",
       "    </tr>\n",
       "    <tr>\n",
       "      <th>2481</th>\n",
       "      <td>zotac</td>\n",
       "      <td>7</td>\n",
       "    </tr>\n",
       "    <tr>\n",
       "      <th>2482</th>\n",
       "      <td>zte</td>\n",
       "      <td>112</td>\n",
       "    </tr>\n",
       "    <tr>\n",
       "      <th>2483</th>\n",
       "      <td>zubr</td>\n",
       "      <td>179</td>\n",
       "    </tr>\n",
       "    <tr>\n",
       "      <th>2484</th>\n",
       "      <td>zuru</td>\n",
       "      <td>3</td>\n",
       "    </tr>\n",
       "    <tr>\n",
       "      <th>2485</th>\n",
       "      <td>zvezda</td>\n",
       "      <td>1</td>\n",
       "    </tr>\n",
       "  </tbody>\n",
       "</table>\n",
       "<p>2486 rows × 2 columns</p>\n",
       "</div>"
      ],
      "text/plain": [
       "                 brand  counts\n",
       "0               a-case      94\n",
       "1              a-elita       1\n",
       "2               a-mega      12\n",
       "3             aardwolf       7\n",
       "4     absolutechampion       1\n",
       "...                ...     ...\n",
       "2481             zotac       7\n",
       "2482               zte     112\n",
       "2483              zubr     179\n",
       "2484              zuru       3\n",
       "2485            zvezda       1\n",
       "\n",
       "[2486 rows x 2 columns]"
      ]
     },
     "execution_count": 13,
     "metadata": {},
     "output_type": "execute_result"
    }
   ],
   "source": [
    "# your code\n",
    "bought_items_by_brand = df[df['event_type'] == 'purchase'].groupby(\"brand\").size()\n",
    "bought_items_by_brand = bought_items_by_brand.reset_index(name = 'counts')\n",
    "bought_items_by_brand_sorted = bought_items_by_brand.sort_values(by='brand')\n",
    "bought_items_by_brand_sorted"
   ]
  },
  {
   "cell_type": "code",
   "execution_count": 14,
   "metadata": {},
   "outputs": [],
   "source": [
    "del d  # free memory"
   ]
  },
  {
   "cell_type": "markdown",
   "metadata": {},
   "source": [
    "# Modeling: predict at the time of addition to a shopping cart if the user will purchase a given product or not\n",
    "\n",
    "### Feature engineering\n",
    "\n",
    "The goal of this modeling is to predict if the user will purchase a product or not when they add the product to the cart. This is called `cart abandonment` if the user does not purchase.\n",
    "\n",
    "First, reconstruct and restructure the data to feed into the machine learning model. For this use case, target only the data for which customers have \"put\" the product into the cart. The relevant `event_type`s are thus \"cart\" and \"purchase\".\n",
    "\n",
    "Create these new features in the training data set:\n",
    "- `activity_count`: number of activity in that session\n",
    "- `category_level1`: category\n",
    "- `category_level2`: sub-category --> split on the \".\" in the category name\n",
    "- `weekday`: weekday of the event --> convert `event_time` to a datetime object, then use `pandas.Timestamp.weekday`\n",
    "- `is_purchased`: whether the is purchased after being put in the cart, this will be the categorical output.\n",
    "\n",
    "Make sure to de-dup any record."
   ]
  },
  {
   "cell_type": "markdown",
   "metadata": {},
   "source": [
    "**Prepare a dataframe for counting activity in the session**"
   ]
  },
  {
   "cell_type": "code",
   "execution_count": 15,
   "metadata": {},
   "outputs": [
    {
     "data": {
      "text/html": [
       "<div>\n",
       "<style scoped>\n",
       "    .dataframe tbody tr th:only-of-type {\n",
       "        vertical-align: middle;\n",
       "    }\n",
       "\n",
       "    .dataframe tbody tr th {\n",
       "        vertical-align: top;\n",
       "    }\n",
       "\n",
       "    .dataframe thead th {\n",
       "        text-align: right;\n",
       "    }\n",
       "</style>\n",
       "<table border=\"1\" class=\"dataframe\">\n",
       "  <thead>\n",
       "    <tr style=\"text-align: right;\">\n",
       "      <th></th>\n",
       "      <th>event_time</th>\n",
       "      <th>event_type</th>\n",
       "      <th>product_id</th>\n",
       "      <th>category_id</th>\n",
       "      <th>category_code</th>\n",
       "      <th>brand</th>\n",
       "      <th>price</th>\n",
       "      <th>user_id</th>\n",
       "      <th>user_session</th>\n",
       "    </tr>\n",
       "  </thead>\n",
       "  <tbody>\n",
       "    <tr>\n",
       "      <th>40</th>\n",
       "      <td>2019-11-01 00:00:14 UTC</td>\n",
       "      <td>cart</td>\n",
       "      <td>1005014</td>\n",
       "      <td>2053013555631882655</td>\n",
       "      <td>electronics.smartphone</td>\n",
       "      <td>samsung</td>\n",
       "      <td>503.09</td>\n",
       "      <td>533326659</td>\n",
       "      <td>6b928be2-2bce-4640-8296-0efdf2fda22a</td>\n",
       "    </tr>\n",
       "    <tr>\n",
       "      <th>168</th>\n",
       "      <td>2019-11-01 00:01:04 UTC</td>\n",
       "      <td>purchase</td>\n",
       "      <td>1005161</td>\n",
       "      <td>2053013555631882655</td>\n",
       "      <td>electronics.smartphone</td>\n",
       "      <td>xiaomi</td>\n",
       "      <td>211.92</td>\n",
       "      <td>513351129</td>\n",
       "      <td>e6b7ce9b-1938-4e20-976c-8b4163aea11d</td>\n",
       "    </tr>\n",
       "    <tr>\n",
       "      <th>502</th>\n",
       "      <td>2019-11-01 00:03:24 UTC</td>\n",
       "      <td>cart</td>\n",
       "      <td>1801881</td>\n",
       "      <td>2053013554415534427</td>\n",
       "      <td>electronics.video.tv</td>\n",
       "      <td>samsung</td>\n",
       "      <td>488.80</td>\n",
       "      <td>557746614</td>\n",
       "      <td>4d76d6d3-fff5-4880-8327-e9e57b618e0e</td>\n",
       "    </tr>\n",
       "    <tr>\n",
       "      <th>537</th>\n",
       "      <td>2019-11-01 00:03:39 UTC</td>\n",
       "      <td>cart</td>\n",
       "      <td>1005115</td>\n",
       "      <td>2053013555631882655</td>\n",
       "      <td>electronics.smartphone</td>\n",
       "      <td>apple</td>\n",
       "      <td>949.47</td>\n",
       "      <td>565865924</td>\n",
       "      <td>fd4bd6d4-bd14-4fdc-9aff-bd41a594f82e</td>\n",
       "    </tr>\n",
       "    <tr>\n",
       "      <th>707</th>\n",
       "      <td>2019-11-01 00:04:51 UTC</td>\n",
       "      <td>purchase</td>\n",
       "      <td>1004856</td>\n",
       "      <td>2053013555631882655</td>\n",
       "      <td>electronics.smartphone</td>\n",
       "      <td>samsung</td>\n",
       "      <td>128.42</td>\n",
       "      <td>562958505</td>\n",
       "      <td>0f039697-fedc-40fa-8830-39c1a024351d</td>\n",
       "    </tr>\n",
       "  </tbody>\n",
       "</table>\n",
       "</div>"
      ],
      "text/plain": [
       "                  event_time event_type  product_id          category_id  \\\n",
       "40   2019-11-01 00:00:14 UTC       cart     1005014  2053013555631882655   \n",
       "168  2019-11-01 00:01:04 UTC   purchase     1005161  2053013555631882655   \n",
       "502  2019-11-01 00:03:24 UTC       cart     1801881  2053013554415534427   \n",
       "537  2019-11-01 00:03:39 UTC       cart     1005115  2053013555631882655   \n",
       "707  2019-11-01 00:04:51 UTC   purchase     1004856  2053013555631882655   \n",
       "\n",
       "              category_code    brand   price    user_id  \\\n",
       "40   electronics.smartphone  samsung  503.09  533326659   \n",
       "168  electronics.smartphone   xiaomi  211.92  513351129   \n",
       "502    electronics.video.tv  samsung  488.80  557746614   \n",
       "537  electronics.smartphone    apple  949.47  565865924   \n",
       "707  electronics.smartphone  samsung  128.42  562958505   \n",
       "\n",
       "                             user_session  \n",
       "40   6b928be2-2bce-4640-8296-0efdf2fda22a  \n",
       "168  e6b7ce9b-1938-4e20-976c-8b4163aea11d  \n",
       "502  4d76d6d3-fff5-4880-8327-e9e57b618e0e  \n",
       "537  fd4bd6d4-bd14-4fdc-9aff-bd41a594f82e  \n",
       "707  0f039697-fedc-40fa-8830-39c1a024351d  "
      ]
     },
     "execution_count": 15,
     "metadata": {},
     "output_type": "execute_result"
    }
   ],
   "source": [
    "# your code\n",
    "# first just eliminate the records where event_type = \"view\" and drop NA values and duplicates\n",
    "df = df[df['event_type'] != 'view']\n",
    "df = df.dropna()\n",
    "df = df.drop_duplicates()\n",
    "df.head()"
   ]
  },
  {
   "cell_type": "code",
   "execution_count": 16,
   "metadata": {},
   "outputs": [],
   "source": [
    "# now you get the number of activities by user session\n",
    "\n",
    "activity_in_session = (\n",
    "    df.groupby([\"user_session\"])[\"event_type\"]\n",
    "    .count()\n",
    "    .reset_index()\n",
    ")\n",
    "activity_in_session = activity_in_session.rename(\n",
    "    columns={\"event_type\": \"activity_count\"}\n",
    ")\n",
    "df_targets = df.copy()\n",
    "\n",
    "\n",
    "#activity_in_session = (\n",
    "#    cart_purchase_users_all_activity.groupby([\"user_session\"])[\"event_type\"]\n",
    "#    .count()\n",
    "#    .reset_index()\n",
    "#)\n",
    "#activity_in_session = activity_in_session.rename(\n",
    "#    columns={\"event_type\": \"activity_count\"}\n",
    "#)\n",
    "#df_targets = cart_purchase_users_all_activity.copy()"
   ]
  },
  {
   "cell_type": "code",
   "execution_count": 17,
   "metadata": {},
   "outputs": [],
   "source": [
    "# create the two new columns for the category levels 1 and 2\n",
    "# your code here\n",
    "df_targets[['category_level1', 'category_level2']] = df_targets['category_code'].str.split('.', 1, expand = True)"
   ]
  },
  {
   "cell_type": "code",
   "execution_count": 18,
   "metadata": {},
   "outputs": [],
   "source": [
    "# Change the event_time to a timestamp\n",
    "# your code\n",
    "df_targets['event_time'] = pd.to_datetime(df_targets['event_time'])"
   ]
  },
  {
   "cell_type": "code",
   "execution_count": 19,
   "metadata": {},
   "outputs": [],
   "source": [
    "# Use pandas.dt.dayofweek to get the day of the week\n",
    "# your code\n",
    "df_targets['weekday'] = df_targets['event_time'].dt.dayofweek"
   ]
  },
  {
   "cell_type": "code",
   "execution_count": 57,
   "metadata": {},
   "outputs": [],
   "source": [
    "# add the is_purchased feature\n",
    "# your code\n",
    "df_targets['is_purchased'] = df_targets.groupby('user_session')['event_type'].transform(lambda x: 'purchase' in x.values).astype(int)"
   ]
  },
  {
   "cell_type": "code",
   "execution_count": 92,
   "metadata": {},
   "outputs": [
    {
     "data": {
      "text/html": [
       "<div>\n",
       "<style scoped>\n",
       "    .dataframe tbody tr th:only-of-type {\n",
       "        vertical-align: middle;\n",
       "    }\n",
       "\n",
       "    .dataframe tbody tr th {\n",
       "        vertical-align: top;\n",
       "    }\n",
       "\n",
       "    .dataframe thead th {\n",
       "        text-align: right;\n",
       "    }\n",
       "</style>\n",
       "<table border=\"1\" class=\"dataframe\">\n",
       "  <thead>\n",
       "    <tr style=\"text-align: right;\">\n",
       "      <th></th>\n",
       "      <th>event_time</th>\n",
       "      <th>event_type</th>\n",
       "      <th>product_id</th>\n",
       "      <th>category_id</th>\n",
       "      <th>category_code</th>\n",
       "      <th>brand</th>\n",
       "      <th>price</th>\n",
       "      <th>user_id</th>\n",
       "      <th>user_session</th>\n",
       "      <th>category_level1</th>\n",
       "      <th>category_level2</th>\n",
       "      <th>weekday</th>\n",
       "      <th>is_purchased</th>\n",
       "      <th>activity_count_x</th>\n",
       "      <th>activity_count_y</th>\n",
       "      <th>activity_count</th>\n",
       "    </tr>\n",
       "  </thead>\n",
       "  <tbody>\n",
       "    <tr>\n",
       "      <th>0</th>\n",
       "      <td>2019-11-01 00:00:14+00:00</td>\n",
       "      <td>cart</td>\n",
       "      <td>1005014</td>\n",
       "      <td>2053013555631882655</td>\n",
       "      <td>electronics.smartphone</td>\n",
       "      <td>samsung</td>\n",
       "      <td>503.09</td>\n",
       "      <td>533326659</td>\n",
       "      <td>6b928be2-2bce-4640-8296-0efdf2fda22a</td>\n",
       "      <td>electronics</td>\n",
       "      <td>smartphone</td>\n",
       "      <td>4</td>\n",
       "      <td>0</td>\n",
       "      <td>1</td>\n",
       "      <td>1</td>\n",
       "      <td>1</td>\n",
       "    </tr>\n",
       "    <tr>\n",
       "      <th>1</th>\n",
       "      <td>2019-11-01 00:01:04+00:00</td>\n",
       "      <td>purchase</td>\n",
       "      <td>1005161</td>\n",
       "      <td>2053013555631882655</td>\n",
       "      <td>electronics.smartphone</td>\n",
       "      <td>xiaomi</td>\n",
       "      <td>211.92</td>\n",
       "      <td>513351129</td>\n",
       "      <td>e6b7ce9b-1938-4e20-976c-8b4163aea11d</td>\n",
       "      <td>electronics</td>\n",
       "      <td>smartphone</td>\n",
       "      <td>4</td>\n",
       "      <td>1</td>\n",
       "      <td>1</td>\n",
       "      <td>1</td>\n",
       "      <td>1</td>\n",
       "    </tr>\n",
       "    <tr>\n",
       "      <th>2</th>\n",
       "      <td>2019-11-01 00:03:24+00:00</td>\n",
       "      <td>cart</td>\n",
       "      <td>1801881</td>\n",
       "      <td>2053013554415534427</td>\n",
       "      <td>electronics.video.tv</td>\n",
       "      <td>samsung</td>\n",
       "      <td>488.80</td>\n",
       "      <td>557746614</td>\n",
       "      <td>4d76d6d3-fff5-4880-8327-e9e57b618e0e</td>\n",
       "      <td>electronics</td>\n",
       "      <td>video.tv</td>\n",
       "      <td>4</td>\n",
       "      <td>1</td>\n",
       "      <td>14</td>\n",
       "      <td>14</td>\n",
       "      <td>14</td>\n",
       "    </tr>\n",
       "    <tr>\n",
       "      <th>3</th>\n",
       "      <td>2019-11-01 00:03:39+00:00</td>\n",
       "      <td>cart</td>\n",
       "      <td>1005115</td>\n",
       "      <td>2053013555631882655</td>\n",
       "      <td>electronics.smartphone</td>\n",
       "      <td>apple</td>\n",
       "      <td>949.47</td>\n",
       "      <td>565865924</td>\n",
       "      <td>fd4bd6d4-bd14-4fdc-9aff-bd41a594f82e</td>\n",
       "      <td>electronics</td>\n",
       "      <td>smartphone</td>\n",
       "      <td>4</td>\n",
       "      <td>0</td>\n",
       "      <td>1</td>\n",
       "      <td>1</td>\n",
       "      <td>1</td>\n",
       "    </tr>\n",
       "    <tr>\n",
       "      <th>4</th>\n",
       "      <td>2019-11-01 00:04:51+00:00</td>\n",
       "      <td>purchase</td>\n",
       "      <td>1004856</td>\n",
       "      <td>2053013555631882655</td>\n",
       "      <td>electronics.smartphone</td>\n",
       "      <td>samsung</td>\n",
       "      <td>128.42</td>\n",
       "      <td>562958505</td>\n",
       "      <td>0f039697-fedc-40fa-8830-39c1a024351d</td>\n",
       "      <td>electronics</td>\n",
       "      <td>smartphone</td>\n",
       "      <td>4</td>\n",
       "      <td>1</td>\n",
       "      <td>1</td>\n",
       "      <td>1</td>\n",
       "      <td>1</td>\n",
       "    </tr>\n",
       "  </tbody>\n",
       "</table>\n",
       "</div>"
      ],
      "text/plain": [
       "                 event_time event_type  product_id          category_id  \\\n",
       "0 2019-11-01 00:00:14+00:00       cart     1005014  2053013555631882655   \n",
       "1 2019-11-01 00:01:04+00:00   purchase     1005161  2053013555631882655   \n",
       "2 2019-11-01 00:03:24+00:00       cart     1801881  2053013554415534427   \n",
       "3 2019-11-01 00:03:39+00:00       cart     1005115  2053013555631882655   \n",
       "4 2019-11-01 00:04:51+00:00   purchase     1004856  2053013555631882655   \n",
       "\n",
       "            category_code    brand   price    user_id  \\\n",
       "0  electronics.smartphone  samsung  503.09  533326659   \n",
       "1  electronics.smartphone   xiaomi  211.92  513351129   \n",
       "2    electronics.video.tv  samsung  488.80  557746614   \n",
       "3  electronics.smartphone    apple  949.47  565865924   \n",
       "4  electronics.smartphone  samsung  128.42  562958505   \n",
       "\n",
       "                           user_session category_level1 category_level2  \\\n",
       "0  6b928be2-2bce-4640-8296-0efdf2fda22a     electronics      smartphone   \n",
       "1  e6b7ce9b-1938-4e20-976c-8b4163aea11d     electronics      smartphone   \n",
       "2  4d76d6d3-fff5-4880-8327-e9e57b618e0e     electronics        video.tv   \n",
       "3  fd4bd6d4-bd14-4fdc-9aff-bd41a594f82e     electronics      smartphone   \n",
       "4  0f039697-fedc-40fa-8830-39c1a024351d     electronics      smartphone   \n",
       "\n",
       "   weekday  is_purchased  activity_count_x  activity_count_y  activity_count  \n",
       "0        4             0                 1                 1               1  \n",
       "1        4             1                 1                 1               1  \n",
       "2        4             1                14                14              14  \n",
       "3        4             0                 1                 1               1  \n",
       "4        4             1                 1                 1               1  "
      ]
     },
     "execution_count": 92,
     "metadata": {},
     "output_type": "execute_result"
    }
   ],
   "source": [
    "df_targets = df_targets.merge(activity_in_session, on=\"user_session\", how=\"left\")\n",
    "# df_targets[\"activity_count\"] = df_targets[\"activity_count\"].fillna(0)\n",
    "df_targets[\"brand\"] = df_targets[\"brand\"].astype(\"category\")\n",
    "df_targets.head()"
   ]
  },
  {
   "cell_type": "code",
   "execution_count": 107,
   "metadata": {},
   "outputs": [
    {
     "data": {
      "text/html": [
       "<div>\n",
       "<style scoped>\n",
       "    .dataframe tbody tr th:only-of-type {\n",
       "        vertical-align: middle;\n",
       "    }\n",
       "\n",
       "    .dataframe tbody tr th {\n",
       "        vertical-align: top;\n",
       "    }\n",
       "\n",
       "    .dataframe thead th {\n",
       "        text-align: right;\n",
       "    }\n",
       "</style>\n",
       "<table border=\"1\" class=\"dataframe\">\n",
       "  <thead>\n",
       "    <tr style=\"text-align: right;\">\n",
       "      <th></th>\n",
       "      <th>event_time</th>\n",
       "      <th>event_type</th>\n",
       "      <th>product_id</th>\n",
       "      <th>category_id</th>\n",
       "      <th>category_code</th>\n",
       "      <th>brand</th>\n",
       "      <th>price</th>\n",
       "      <th>user_id</th>\n",
       "      <th>user_session</th>\n",
       "      <th>category_level1</th>\n",
       "      <th>category_level2</th>\n",
       "      <th>weekday</th>\n",
       "      <th>is_purchased</th>\n",
       "      <th>activity_count</th>\n",
       "    </tr>\n",
       "  </thead>\n",
       "  <tbody>\n",
       "    <tr>\n",
       "      <th>0</th>\n",
       "      <td>2019-11-01 00:00:14+00:00</td>\n",
       "      <td>cart</td>\n",
       "      <td>1005014</td>\n",
       "      <td>2053013555631882655</td>\n",
       "      <td>electronics.smartphone</td>\n",
       "      <td>samsung</td>\n",
       "      <td>503.09</td>\n",
       "      <td>533326659</td>\n",
       "      <td>6b928be2-2bce-4640-8296-0efdf2fda22a</td>\n",
       "      <td>electronics</td>\n",
       "      <td>smartphone</td>\n",
       "      <td>4</td>\n",
       "      <td>0</td>\n",
       "      <td>1</td>\n",
       "    </tr>\n",
       "    <tr>\n",
       "      <th>1</th>\n",
       "      <td>2019-11-01 00:01:04+00:00</td>\n",
       "      <td>purchase</td>\n",
       "      <td>1005161</td>\n",
       "      <td>2053013555631882655</td>\n",
       "      <td>electronics.smartphone</td>\n",
       "      <td>xiaomi</td>\n",
       "      <td>211.92</td>\n",
       "      <td>513351129</td>\n",
       "      <td>e6b7ce9b-1938-4e20-976c-8b4163aea11d</td>\n",
       "      <td>electronics</td>\n",
       "      <td>smartphone</td>\n",
       "      <td>4</td>\n",
       "      <td>1</td>\n",
       "      <td>1</td>\n",
       "    </tr>\n",
       "    <tr>\n",
       "      <th>2</th>\n",
       "      <td>2019-11-01 00:03:24+00:00</td>\n",
       "      <td>cart</td>\n",
       "      <td>1801881</td>\n",
       "      <td>2053013554415534427</td>\n",
       "      <td>electronics.video.tv</td>\n",
       "      <td>samsung</td>\n",
       "      <td>488.80</td>\n",
       "      <td>557746614</td>\n",
       "      <td>4d76d6d3-fff5-4880-8327-e9e57b618e0e</td>\n",
       "      <td>electronics</td>\n",
       "      <td>video.tv</td>\n",
       "      <td>4</td>\n",
       "      <td>1</td>\n",
       "      <td>14</td>\n",
       "    </tr>\n",
       "    <tr>\n",
       "      <th>3</th>\n",
       "      <td>2019-11-01 00:03:39+00:00</td>\n",
       "      <td>cart</td>\n",
       "      <td>1005115</td>\n",
       "      <td>2053013555631882655</td>\n",
       "      <td>electronics.smartphone</td>\n",
       "      <td>apple</td>\n",
       "      <td>949.47</td>\n",
       "      <td>565865924</td>\n",
       "      <td>fd4bd6d4-bd14-4fdc-9aff-bd41a594f82e</td>\n",
       "      <td>electronics</td>\n",
       "      <td>smartphone</td>\n",
       "      <td>4</td>\n",
       "      <td>0</td>\n",
       "      <td>1</td>\n",
       "    </tr>\n",
       "    <tr>\n",
       "      <th>4</th>\n",
       "      <td>2019-11-01 00:04:51+00:00</td>\n",
       "      <td>purchase</td>\n",
       "      <td>1004856</td>\n",
       "      <td>2053013555631882655</td>\n",
       "      <td>electronics.smartphone</td>\n",
       "      <td>samsung</td>\n",
       "      <td>128.42</td>\n",
       "      <td>562958505</td>\n",
       "      <td>0f039697-fedc-40fa-8830-39c1a024351d</td>\n",
       "      <td>electronics</td>\n",
       "      <td>smartphone</td>\n",
       "      <td>4</td>\n",
       "      <td>1</td>\n",
       "      <td>1</td>\n",
       "    </tr>\n",
       "    <tr>\n",
       "      <th>...</th>\n",
       "      <td>...</td>\n",
       "      <td>...</td>\n",
       "      <td>...</td>\n",
       "      <td>...</td>\n",
       "      <td>...</td>\n",
       "      <td>...</td>\n",
       "      <td>...</td>\n",
       "      <td>...</td>\n",
       "      <td>...</td>\n",
       "      <td>...</td>\n",
       "      <td>...</td>\n",
       "      <td>...</td>\n",
       "      <td>...</td>\n",
       "      <td>...</td>\n",
       "    </tr>\n",
       "    <tr>\n",
       "      <th>2704544</th>\n",
       "      <td>2019-11-30 23:58:39+00:00</td>\n",
       "      <td>cart</td>\n",
       "      <td>1005003</td>\n",
       "      <td>2053013555631882655</td>\n",
       "      <td>electronics.smartphone</td>\n",
       "      <td>huawei</td>\n",
       "      <td>227.64</td>\n",
       "      <td>555295228</td>\n",
       "      <td>faff950a-a998-4872-8801-693f74c5e55f</td>\n",
       "      <td>electronics</td>\n",
       "      <td>smartphone</td>\n",
       "      <td>5</td>\n",
       "      <td>0</td>\n",
       "      <td>1</td>\n",
       "    </tr>\n",
       "    <tr>\n",
       "      <th>2704545</th>\n",
       "      <td>2019-11-30 23:58:55+00:00</td>\n",
       "      <td>cart</td>\n",
       "      <td>3701309</td>\n",
       "      <td>2053013565983425517</td>\n",
       "      <td>appliances.environment.vacuum</td>\n",
       "      <td>polaris</td>\n",
       "      <td>89.32</td>\n",
       "      <td>543733099</td>\n",
       "      <td>a65116f4-ac53-4a41-ad68-6606788e674c</td>\n",
       "      <td>appliances</td>\n",
       "      <td>environment.vacuum</td>\n",
       "      <td>5</td>\n",
       "      <td>1</td>\n",
       "      <td>4</td>\n",
       "    </tr>\n",
       "    <tr>\n",
       "      <th>2704546</th>\n",
       "      <td>2019-11-30 23:58:57+00:00</td>\n",
       "      <td>purchase</td>\n",
       "      <td>1004767</td>\n",
       "      <td>2053013555631882655</td>\n",
       "      <td>electronics.smartphone</td>\n",
       "      <td>samsung</td>\n",
       "      <td>235.60</td>\n",
       "      <td>579876821</td>\n",
       "      <td>ca50e291-43f3-4ca2-9e13-20ee6b8b25f0</td>\n",
       "      <td>electronics</td>\n",
       "      <td>smartphone</td>\n",
       "      <td>5</td>\n",
       "      <td>1</td>\n",
       "      <td>4</td>\n",
       "    </tr>\n",
       "    <tr>\n",
       "      <th>2704547</th>\n",
       "      <td>2019-11-30 23:59:15+00:00</td>\n",
       "      <td>purchase</td>\n",
       "      <td>3701309</td>\n",
       "      <td>2053013565983425517</td>\n",
       "      <td>appliances.environment.vacuum</td>\n",
       "      <td>polaris</td>\n",
       "      <td>89.32</td>\n",
       "      <td>543733099</td>\n",
       "      <td>a65116f4-ac53-4a41-ad68-6606788e674c</td>\n",
       "      <td>appliances</td>\n",
       "      <td>environment.vacuum</td>\n",
       "      <td>5</td>\n",
       "      <td>1</td>\n",
       "      <td>4</td>\n",
       "    </tr>\n",
       "    <tr>\n",
       "      <th>2704548</th>\n",
       "      <td>2019-11-30 23:59:44+00:00</td>\n",
       "      <td>cart</td>\n",
       "      <td>3701309</td>\n",
       "      <td>2053013565983425517</td>\n",
       "      <td>appliances.environment.vacuum</td>\n",
       "      <td>polaris</td>\n",
       "      <td>89.32</td>\n",
       "      <td>543733099</td>\n",
       "      <td>a65116f4-ac53-4a41-ad68-6606788e674c</td>\n",
       "      <td>appliances</td>\n",
       "      <td>environment.vacuum</td>\n",
       "      <td>5</td>\n",
       "      <td>1</td>\n",
       "      <td>4</td>\n",
       "    </tr>\n",
       "  </tbody>\n",
       "</table>\n",
       "<p>2704549 rows × 14 columns</p>\n",
       "</div>"
      ],
      "text/plain": [
       "                       event_time event_type  product_id          category_id  \\\n",
       "0       2019-11-01 00:00:14+00:00       cart     1005014  2053013555631882655   \n",
       "1       2019-11-01 00:01:04+00:00   purchase     1005161  2053013555631882655   \n",
       "2       2019-11-01 00:03:24+00:00       cart     1801881  2053013554415534427   \n",
       "3       2019-11-01 00:03:39+00:00       cart     1005115  2053013555631882655   \n",
       "4       2019-11-01 00:04:51+00:00   purchase     1004856  2053013555631882655   \n",
       "...                           ...        ...         ...                  ...   \n",
       "2704544 2019-11-30 23:58:39+00:00       cart     1005003  2053013555631882655   \n",
       "2704545 2019-11-30 23:58:55+00:00       cart     3701309  2053013565983425517   \n",
       "2704546 2019-11-30 23:58:57+00:00   purchase     1004767  2053013555631882655   \n",
       "2704547 2019-11-30 23:59:15+00:00   purchase     3701309  2053013565983425517   \n",
       "2704548 2019-11-30 23:59:44+00:00       cart     3701309  2053013565983425517   \n",
       "\n",
       "                         category_code    brand   price    user_id  \\\n",
       "0               electronics.smartphone  samsung  503.09  533326659   \n",
       "1               electronics.smartphone   xiaomi  211.92  513351129   \n",
       "2                 electronics.video.tv  samsung  488.80  557746614   \n",
       "3               electronics.smartphone    apple  949.47  565865924   \n",
       "4               electronics.smartphone  samsung  128.42  562958505   \n",
       "...                                ...      ...     ...        ...   \n",
       "2704544         electronics.smartphone   huawei  227.64  555295228   \n",
       "2704545  appliances.environment.vacuum  polaris   89.32  543733099   \n",
       "2704546         electronics.smartphone  samsung  235.60  579876821   \n",
       "2704547  appliances.environment.vacuum  polaris   89.32  543733099   \n",
       "2704548  appliances.environment.vacuum  polaris   89.32  543733099   \n",
       "\n",
       "                                 user_session category_level1  \\\n",
       "0        6b928be2-2bce-4640-8296-0efdf2fda22a     electronics   \n",
       "1        e6b7ce9b-1938-4e20-976c-8b4163aea11d     electronics   \n",
       "2        4d76d6d3-fff5-4880-8327-e9e57b618e0e     electronics   \n",
       "3        fd4bd6d4-bd14-4fdc-9aff-bd41a594f82e     electronics   \n",
       "4        0f039697-fedc-40fa-8830-39c1a024351d     electronics   \n",
       "...                                       ...             ...   \n",
       "2704544  faff950a-a998-4872-8801-693f74c5e55f     electronics   \n",
       "2704545  a65116f4-ac53-4a41-ad68-6606788e674c      appliances   \n",
       "2704546  ca50e291-43f3-4ca2-9e13-20ee6b8b25f0     electronics   \n",
       "2704547  a65116f4-ac53-4a41-ad68-6606788e674c      appliances   \n",
       "2704548  a65116f4-ac53-4a41-ad68-6606788e674c      appliances   \n",
       "\n",
       "            category_level2  weekday  is_purchased  activity_count  \n",
       "0                smartphone        4             0               1  \n",
       "1                smartphone        4             1               1  \n",
       "2                  video.tv        4             1              14  \n",
       "3                smartphone        4             0               1  \n",
       "4                smartphone        4             1               1  \n",
       "...                     ...      ...           ...             ...  \n",
       "2704544          smartphone        5             0               1  \n",
       "2704545  environment.vacuum        5             1               4  \n",
       "2704546          smartphone        5             1               4  \n",
       "2704547  environment.vacuum        5             1               4  \n",
       "2704548  environment.vacuum        5             1               4  \n",
       "\n",
       "[2704549 rows x 14 columns]"
      ]
     },
     "execution_count": 107,
     "metadata": {},
     "output_type": "execute_result"
    }
   ],
   "source": [
    "df_targets = df_targets.drop('activity_count_x', axis = 1)\n",
    "df_targets = df_targets.drop('activity_count_y', axis = 1)\n",
    "df_targets"
   ]
  },
  {
   "cell_type": "markdown",
   "metadata": {},
   "source": [
    "### Save new data structure if desired"
   ]
  },
  {
   "cell_type": "code",
   "execution_count": 108,
   "metadata": {},
   "outputs": [],
   "source": [
    "# df_targets.to_csv('training_data.csv')"
   ]
  },
  {
   "cell_type": "code",
   "execution_count": 109,
   "metadata": {},
   "outputs": [
    {
     "name": "stdout",
     "output_type": "stream",
     "text": [
      "<class 'pandas.core.frame.DataFrame'>\n",
      "Int64Index: 2704549 entries, 0 to 2704548\n",
      "Data columns (total 14 columns):\n",
      " #   Column           Dtype              \n",
      "---  ------           -----              \n",
      " 0   event_time       datetime64[ns, UTC]\n",
      " 1   event_type       object             \n",
      " 2   product_id       int64              \n",
      " 3   category_id      int64              \n",
      " 4   category_code    object             \n",
      " 5   brand            category           \n",
      " 6   price            float64            \n",
      " 7   user_id          int64              \n",
      " 8   user_session     object             \n",
      " 9   category_level1  object             \n",
      " 10  category_level2  object             \n",
      " 11  weekday          int64              \n",
      " 12  is_purchased     int32              \n",
      " 13  activity_count   int64              \n",
      "dtypes: category(1), datetime64[ns, UTC](1), float64(1), int32(1), int64(5), object(5)\n",
      "memory usage: 283.8+ MB\n"
     ]
    }
   ],
   "source": [
    "df_targets.info()"
   ]
  },
  {
   "cell_type": "code",
   "execution_count": 137,
   "metadata": {},
   "outputs": [],
   "source": [
    "from sklearn.preprocessing import LabelEncoder, MinMaxScaler\n",
    "from sklearn.model_selection import train_test_split\n",
    "from xgboost import plot_importance\n",
    "from sklearn.utils import resample\n",
    "from sklearn import metrics"
   ]
  },
  {
   "cell_type": "markdown",
   "metadata": {},
   "source": [
    "## Resampling training set"
   ]
  },
  {
   "cell_type": "code",
   "execution_count": 138,
   "metadata": {},
   "outputs": [
    {
     "data": {
      "text/plain": [
       "1493429"
      ]
     },
     "execution_count": 138,
     "metadata": {},
     "output_type": "execute_result"
    }
   ],
   "source": [
    "is_purcahase_set = df_targets[df_targets[\"is_purchased\"] == 1]\n",
    "is_purcahase_set.shape[0]"
   ]
  },
  {
   "cell_type": "code",
   "execution_count": 139,
   "metadata": {},
   "outputs": [
    {
     "data": {
      "text/plain": [
       "1211120"
      ]
     },
     "execution_count": 139,
     "metadata": {},
     "output_type": "execute_result"
    }
   ],
   "source": [
    "not_purcahase_set = df_targets[df_targets[\"is_purchased\"] == 0]\n",
    "not_purcahase_set.shape[0]"
   ]
  },
  {
   "cell_type": "code",
   "execution_count": 140,
   "metadata": {},
   "outputs": [],
   "source": [
    "n_samples = 500000\n",
    "is_purchase_downsampled = resample(\n",
    "    is_purcahase_set, replace=False, n_samples=n_samples, random_state=27\n",
    ")\n",
    "not_purcahase_set_downsampled = resample(\n",
    "    not_purcahase_set, replace=False, n_samples=n_samples, random_state=27\n",
    ")"
   ]
  },
  {
   "cell_type": "code",
   "execution_count": 141,
   "metadata": {},
   "outputs": [
    {
     "data": {
      "text/plain": [
       "1    500000\n",
       "0    500000\n",
       "Name: is_purchased, dtype: int64"
      ]
     },
     "execution_count": 141,
     "metadata": {},
     "output_type": "execute_result"
    }
   ],
   "source": [
    "downsampled = pd.concat([is_purchase_downsampled, not_purcahase_set_downsampled])\n",
    "downsampled[\"is_purchased\"].value_counts()"
   ]
  },
  {
   "cell_type": "code",
   "execution_count": 150,
   "metadata": {},
   "outputs": [],
   "source": [
    "# select the brand, price, weekday, category_level1, cateogry_level2, and activity_count features\n",
    "\n",
    "features = downsampled.loc[:, ['brand', 'price', 'weekday', 'category_level1', 'category_level2', 'activity_count']]\n",
    "downsampled = downsampled.loc[:, ['brand', 'price', 'weekday', 'category_level1', 'category_level2', 'activity_count', 'is_purchased']]"
   ]
  },
  {
   "cell_type": "markdown",
   "metadata": {},
   "source": [
    "## Encode categorical variables"
   ]
  },
  {
   "cell_type": "code",
   "execution_count": 151,
   "metadata": {},
   "outputs": [
    {
     "data": {
      "text/html": [
       "<div>\n",
       "<style scoped>\n",
       "    .dataframe tbody tr th:only-of-type {\n",
       "        vertical-align: middle;\n",
       "    }\n",
       "\n",
       "    .dataframe tbody tr th {\n",
       "        vertical-align: top;\n",
       "    }\n",
       "\n",
       "    .dataframe thead th {\n",
       "        text-align: right;\n",
       "    }\n",
       "</style>\n",
       "<table border=\"1\" class=\"dataframe\">\n",
       "  <thead>\n",
       "    <tr style=\"text-align: right;\">\n",
       "      <th></th>\n",
       "      <th>brand</th>\n",
       "      <th>price</th>\n",
       "      <th>weekday</th>\n",
       "      <th>category_level1</th>\n",
       "      <th>category_level2</th>\n",
       "      <th>activity_count</th>\n",
       "    </tr>\n",
       "  </thead>\n",
       "  <tbody>\n",
       "    <tr>\n",
       "      <th>2479659</th>\n",
       "      <td>135</td>\n",
       "      <td>52.00</td>\n",
       "      <td>3</td>\n",
       "      <td>1</td>\n",
       "      <td>88</td>\n",
       "      <td>2</td>\n",
       "    </tr>\n",
       "    <tr>\n",
       "      <th>1690934</th>\n",
       "      <td>74</td>\n",
       "      <td>206.34</td>\n",
       "      <td>6</td>\n",
       "      <td>7</td>\n",
       "      <td>9</td>\n",
       "      <td>2</td>\n",
       "    </tr>\n",
       "    <tr>\n",
       "      <th>501396</th>\n",
       "      <td>1066</td>\n",
       "      <td>237.32</td>\n",
       "      <td>1</td>\n",
       "      <td>7</td>\n",
       "      <td>100</td>\n",
       "      <td>2</td>\n",
       "    </tr>\n",
       "    <tr>\n",
       "      <th>370007</th>\n",
       "      <td>1066</td>\n",
       "      <td>354.32</td>\n",
       "      <td>6</td>\n",
       "      <td>7</td>\n",
       "      <td>100</td>\n",
       "      <td>2</td>\n",
       "    </tr>\n",
       "    <tr>\n",
       "      <th>1813280</th>\n",
       "      <td>1066</td>\n",
       "      <td>771.91</td>\n",
       "      <td>6</td>\n",
       "      <td>7</td>\n",
       "      <td>124</td>\n",
       "      <td>2</td>\n",
       "    </tr>\n",
       "  </tbody>\n",
       "</table>\n",
       "</div>"
      ],
      "text/plain": [
       "         brand   price  weekday  category_level1  category_level2  \\\n",
       "2479659    135   52.00        3                1               88   \n",
       "1690934     74  206.34        6                7                9   \n",
       "501396    1066  237.32        1                7              100   \n",
       "370007    1066  354.32        6                7              100   \n",
       "1813280   1066  771.91        6                7              124   \n",
       "\n",
       "         activity_count  \n",
       "2479659               2  \n",
       "1690934               2  \n",
       "501396                2  \n",
       "370007                2  \n",
       "1813280               2  "
      ]
     },
     "execution_count": 151,
     "metadata": {},
     "output_type": "execute_result"
    }
   ],
   "source": [
    "from sklearn.preprocessing import LabelEncoder\n",
    "le = LabelEncoder()\n",
    "\n",
    "features[\"brand\"] = le.fit_transform(features[\"brand\"].astype(str))\n",
    "features[\"weekday\"] = le.fit_transform(features[\"weekday\"].astype(str))\n",
    "features[\"category_level1\"] = le.fit_transform(features[\"category_level1\"].astype(str))\n",
    "features[\"category_level2\"] = le.fit_transform(features[\"category_level2\"].astype(str))\n",
    "\n",
    "#features.loc[:, \"weekday\"] = LabelEncoder().fit_transform(\n",
    "#    downsampled.loc[:, \"weekday\"].copy()\n",
    "#)\n",
    "#features.loc[:, \"category_level1\"] = LabelEncoder().fit_transform(\n",
    "#    downsampled.loc[:, \"category_level1\"].copy()\n",
    "#)\n",
    "#features.loc[:, \"category_level2\"] = LabelEncoder().fit_transform(\n",
    "#    downsampled.loc[:, \"category_level2\"].copy()\n",
    "#)\n",
    "\n",
    "is_purchased = le.fit_transform(downsampled[\"is_purchased\"])\n",
    "features.head()"
   ]
  },
  {
   "cell_type": "code",
   "execution_count": 152,
   "metadata": {},
   "outputs": [
    {
     "name": "stdout",
     "output_type": "stream",
     "text": [
      "['brand', 'price', 'weekday', 'category_level1', 'category_level2', 'activity_count']\n"
     ]
    }
   ],
   "source": [
    "print(list(features.columns))"
   ]
  },
  {
   "cell_type": "markdown",
   "metadata": {},
   "source": [
    "## Split the data\n",
    "Use a test size of 0.3 and a random state of 86 to split the data into test and train subsets"
   ]
  },
  {
   "cell_type": "code",
   "execution_count": 155,
   "metadata": {},
   "outputs": [],
   "source": [
    "X = features\n",
    "y = downsampled['is_purchased']\n",
    "X_train, X_test, y_train, y_test = train_test_split(X,y,test_size = 0.3, random_state = 86)"
   ]
  },
  {
   "cell_type": "markdown",
   "metadata": {},
   "source": [
    "## Train the model\n",
    "Choose learning rate of 0.1 on XGBClassifier, fit the model, and make predictions on the test set"
   ]
  },
  {
   "cell_type": "code",
   "execution_count": 156,
   "metadata": {},
   "outputs": [],
   "source": [
    "from xgboost import XGBClassifier\n",
    "\n",
    "model = XGBClassifier(learning_rate = 0.1)\n",
    "# fit the model on the train sets\n",
    "model.fit(X_train, y_train)\n",
    "y_pred = model.predict(X_test)"
   ]
  },
  {
   "cell_type": "code",
   "execution_count": 157,
   "metadata": {},
   "outputs": [
    {
     "name": "stdout",
     "output_type": "stream",
     "text": [
      "Accuracy: 0.7722866666666667\n",
      "Precision: 0.7414483712027223\n",
      "Recall: 0.836390051448831\n",
      "fbeta: 0.773841682964807\n"
     ]
    }
   ],
   "source": [
    "print(\"Accuracy:\", metrics.accuracy_score(y_test, y_pred))\n",
    "print(\"Precision:\", metrics.precision_score(y_test, y_pred))\n",
    "print(\"Recall:\", metrics.recall_score(y_test, y_pred))\n",
    "print(\"fbeta:\", metrics.fbeta_score(y_test, y_pred, average=\"weighted\", beta=0.5))"
   ]
  },
  {
   "cell_type": "markdown",
   "metadata": {},
   "source": [
    "## Feature importance\n",
    "Plot the feature importance using plot_importance"
   ]
  },
  {
   "cell_type": "code",
   "execution_count": 158,
   "metadata": {},
   "outputs": [
    {
     "data": {
      "image/png": "[encoded data removed]",
      "text/plain": [
       "<Figure size 1224x360 with 1 Axes>"
      ]
     },
     "metadata": {
      "needs_background": "light"
     },
     "output_type": "display_data"
    }
   ],
   "source": [
    "plot_importance(model, max_num_features=10, importance_type=\"gain\")\n",
    "# plt.rcParams['figure.figsize'] = (40,10)\n",
    "plt.show()"
   ]
  },
  {
   "cell_type": "code",
   "execution_count": null,
   "metadata": {},
   "outputs": [],
   "source": []
  }
 ],
 "metadata": {
  "kernelspec": {
   "display_name": "Python 3",
   "language": "python",
   "name": "python3"
  },
  "language_info": {
   "codemirror_mode": {
    "name": "ipython",
    "version": 3
   },
   "file_extension": ".py",
   "mimetype": "text/x-python",
   "name": "python",
   "nbconvert_exporter": "python",
   "pygments_lexer": "ipython3",
   "version": "3.8.5"
  }
 },
 "nbformat": 4,
 "nbformat_minor": 4
}
